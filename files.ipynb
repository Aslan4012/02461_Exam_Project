{
 "cells": [
  {
   "cell_type": "code",
   "execution_count": 2,
   "metadata": {},
   "outputs": [],
   "source": [
    "import numpy as np\n",
    "import os\n",
    "from xml.etree import ElementTree as ET\n",
    "from PIL import Image\n"
   ]
  },
  {
   "cell_type": "code",
   "execution_count": 3,
   "metadata": {},
   "outputs": [],
   "source": [
    "Images = \"/Users/aslandalhoffbehbahani/Downloads/PKLot/Images\"\n",
    "labels = \"/Users/aslandalhoffbehbahani/Downloads/PKLot/Labels\"\n"
   ]
  },
  {
   "cell_type": "code",
   "execution_count": 11,
   "metadata": {},
   "outputs": [],
   "source": [
    "labels_files = sorted(os.path.splitext(f)[0] for f in os.listdir(labels) if f.endswith(\".xml\"))\n",
    "other_files = sorted(os.path.splitext(f)[0] for f in os.listdir(Images) if f.endswith((\".jpg\", \".png\")))"
   ]
  },
  {
   "cell_type": "code",
   "execution_count": 12,
   "metadata": {},
   "outputs": [
    {
     "name": "stdout",
     "output_type": "stream",
     "text": [
      "The file names in both folders match and are in the same order!\n"
     ]
    }
   ],
   "source": [
    "if labels_files == other_files:\n",
    "    print(\"The file names in both folders match and are in the same order!\")\n",
    "else:\n",
    "    print(\"The file names in both folders do NOT match!\")\n",
    "    # Optionally, print the differences\n",
    "    print(\"Files in Labels but not in Other:\", set(labels_files) - set(other_files))\n",
    "    print(\"Files in Other but not in Labels:\", set(other_files) - set(labels_files))"
   ]
  },
  {
   "cell_type": "code",
   "execution_count": 14,
   "metadata": {},
   "outputs": [],
   "source": [
    "# Path to the folder containing XML files\n",
    "xml_folder = \"/Users/aslandalhoffbehbahani/Downloads/PKLot/Labels\"\n",
    "\n",
    "# Output file path\n",
    "output_file = \"/Users/aslandalhoffbehbahani/Downloads/PKLot/Labels_Num.txt\"\n",
    "\n",
    "# Open the output file\n",
    "with open(output_file, \"w\") as outfile:\n",
    "    # Loop through all XML files in the folder\n",
    "    for filename in sorted(os.listdir(xml_folder)):  # Sorted for consistency\n",
    "        if filename.endswith(\".xml\"):  # Only process XML files\n",
    "            file_path = os.path.join(xml_folder, filename)\n",
    "            try:\n",
    "                # Parse the XML file\n",
    "                tree = ET.parse(file_path)\n",
    "                root = tree.getroot()\n",
    "                \n",
    "                # Count the number of 'occupied=\"1\"'\n",
    "                occupied_count = sum(1 for space in root.findall(\"space\") if space.get(\"occupied\") == \"1\")\n",
    "                \n",
    "                # Write the result to the output file\n",
    "                outfile.write(f\"{filename}: {occupied_count}\\n\")\n",
    "            except ET.ParseError:\n",
    "                print(f\"Error parsing {filename}. Skipping...\")"
   ]
  },
  {
   "cell_type": "code",
   "execution_count": 8,
   "metadata": {},
   "outputs": [
    {
     "name": "stdout",
     "output_type": "stream",
     "text": [
      "Batch shape: (100, 720, 1280, 3)\n"
     ]
    }
   ],
   "source": []
  },
  {
   "cell_type": "code",
   "execution_count": null,
   "metadata": {},
   "outputs": [],
   "source": []
  }
 ],
 "metadata": {
  "kernelspec": {
   "display_name": "AI",
   "language": "python",
   "name": "python3"
  },
  "language_info": {
   "codemirror_mode": {
    "name": "ipython",
    "version": 3
   },
   "file_extension": ".py",
   "mimetype": "text/x-python",
   "name": "python",
   "nbconvert_exporter": "python",
   "pygments_lexer": "ipython3",
   "version": "3.10.15"
  }
 },
 "nbformat": 4,
 "nbformat_minor": 2
}
