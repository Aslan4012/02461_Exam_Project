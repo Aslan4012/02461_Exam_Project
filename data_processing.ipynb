{
 "cells": [
  {
   "cell_type": "code",
   "execution_count": 1,
   "metadata": {},
   "outputs": [],
   "source": [
    "import numpy as np\n",
    "import os\n",
    "from xml.etree import ElementTree as ET\n",
    "from PIL import Image"
   ]
  },
  {
   "cell_type": "code",
   "execution_count": 2,
   "metadata": {},
   "outputs": [],
   "source": [
    "Images = \"/Users/aslandalhoffbehbahani/Downloads/PKLot/Images\"\n",
    "labels = \"/Users/aslandalhoffbehbahani/Downloads/PKLot/Labels\"\n"
   ]
  },
  {
   "cell_type": "code",
   "execution_count": null,
   "metadata": {},
   "outputs": [],
   "source": [
    "# Define the input folder\n",
    "Images = \"/Users/aslandalhoffbehbahani/Downloads/PKLot/Images\"\n",
    "\n",
    "# List to store preprocessed images\n",
    "preprocessed_images = []\n",
    "\n",
    "Ims = os.listdir(Images)\n",
    "\n",
    "# Loop through all files in the folder\n",
    "for filename in Ims[:5000]:\n",
    "    if filename.endswith((\".jpg\", \".png\", \".jpeg\")):  # Process only image files\n",
    "        file_path = os.path.join(Images, filename)\n",
    "        \n",
    "        # Load the image\n",
    "        image = Image.open(file_path)\n",
    "\n",
    "        # Resize the image to 224x224\n",
    "        image = image.resize((512,512))\n",
    "        \n",
    "        # Convert to numpy array (pixel values)\n",
    "        image_array = np.array(image)\n",
    "        \n",
    "        # Normalize pixel values to [0, 1]\n",
    "        normalized_image = image_array / 255.0\n",
    "        \n",
    "        # Add batch dimension\n",
    "        batched_image = np.expand_dims(normalized_image, axis=0)\n",
    "        \n",
    "        # Append to the list of preprocessed images\n",
    "        preprocessed_images.append(batched_image)\n",
    "\n",
    "        # file x out of y\n",
    "        # print(f\"Processed {len(preprocessed_images)} out of {len(Ims)}\", end=\"\\r\")\n",
    "\n",
    "# Convert the list of preprocessed images to a single numpy array\n",
    "# The shape will be (num_images, 224, 224, 3)\n",
    "batch_array = np.vstack(preprocessed_images)\n",
    "\n",
    "# Output shape\n",
    "print(f\"Batch shape: {batch_array.shape}\")"
   ]
  },
  {
   "cell_type": "code",
   "execution_count": null,
   "metadata": {},
   "outputs": [],
   "source": []
  }
 ],
 "metadata": {
  "kernelspec": {
   "display_name": "AI",
   "language": "python",
   "name": "python3"
  },
  "language_info": {
   "codemirror_mode": {
    "name": "ipython",
    "version": 3
   },
   "file_extension": ".py",
   "mimetype": "text/x-python",
   "name": "python",
   "nbconvert_exporter": "python",
   "pygments_lexer": "ipython3",
   "version": "3.10.15"
  }
 },
 "nbformat": 4,
 "nbformat_minor": 2
}
